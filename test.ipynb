{
 "cells": [
  {
   "cell_type": "code",
   "execution_count": 16,
   "metadata": {},
   "outputs": [],
   "source": [
    "images_path = \"/home/parvej/Documents/archive (1)/main_dataset/val/images\"\n",
    "labels_path = \"/home/parvej/Documents/archive (1)/main_dataset/val/labels\""
   ]
  },
  {
   "cell_type": "code",
   "execution_count": 17,
   "metadata": {},
   "outputs": [],
   "source": [
    "import os\n",
    "from tqdm import tqdm"
   ]
  },
  {
   "cell_type": "code",
   "execution_count": 18,
   "metadata": {},
   "outputs": [],
   "source": [
    "images_file_path = os.listdir(images_path)\n",
    "labels_file_path = os.listdir(labels_path)"
   ]
  },
  {
   "cell_type": "code",
   "execution_count": 19,
   "metadata": {},
   "outputs": [],
   "source": [
    "def check_label(image_name):\n",
    "    if os.path.exists(os.path.join(labels_path, image_name + \".txt\")):\n",
    "        with open(os.path.join(labels_path, image_name + \".txt\"), 'r') as f:\n",
    "            lines = f.readlines()\n",
    "            for line in lines:\n",
    "                if line.split()[0] != \"0\":\n",
    "                    print(f\"=============================================\\n{image_name}\\n{line}\\n=============================================\")    \n",
    "        return None"
   ]
  },
  {
   "cell_type": "code",
   "execution_count": 20,
   "metadata": {},
   "outputs": [
    {
     "name": "stderr",
     "output_type": "stream",
     "text": [
      "100%|██████████| 13362/13362 [00:03<00:00, 4115.41it/s]\n"
     ]
    }
   ],
   "source": [
    "for image_name in tqdm(images_file_path):\n",
    "    image_name = image_name.split(\".\")[0]\n",
    "    if image_name+\".txt\" not in labels_file_path:\n",
    "        print(image_name)\n",
    "    check_label(image_name)\n",
    "    "
   ]
  },
  {
   "cell_type": "code",
   "execution_count": 4,
   "metadata": {},
   "outputs": [
    {
     "name": "stdout",
     "output_type": "stream",
     "text": [
      "{'names': {0: 'human', 1: 'others'}, 'train': 'ami tamim', 'val': 'tumi tamim'}\n"
     ]
    }
   ],
   "source": [
    "# import yaml\n",
    "# with open('/home/mehedi/Projects/GB_PROJECT/gb_active_learning_delivery/media/output/data.yaml') as f:\n",
    "#     data_dict = yaml.safe_load(f)\n",
    "#     print(data_dict)\n",
    "    \n",
    "# data_dict[\"train\"] = \"ami tamim\"\n",
    "# data_dict[\"val\"] = \"tumi tamim\"\n",
    "\n",
    "# with open('/home/mehedi/Projects/GB_PROJECT/gb_active_learning_delivery/media/output/data.yaml', 'w') as f:\n",
    "#     yaml.dump(data_dict, f)\n"
   ]
  },
  {
   "cell_type": "code",
   "execution_count": null,
   "metadata": {},
   "outputs": [],
   "source": []
  }
 ],
 "metadata": {
  "kernelspec": {
   "display_name": "langchain_t",
   "language": "python",
   "name": "python3"
  },
  "language_info": {
   "codemirror_mode": {
    "name": "ipython",
    "version": 3
   },
   "file_extension": ".py",
   "mimetype": "text/x-python",
   "name": "python",
   "nbconvert_exporter": "python",
   "pygments_lexer": "ipython3",
   "version": "3.10.13"
  }
 },
 "nbformat": 4,
 "nbformat_minor": 2
}
